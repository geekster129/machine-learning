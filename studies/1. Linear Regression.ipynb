{
 "cells": [
  {
   "cell_type": "markdown",
   "metadata": {},
   "source": [
    "# Linear Regression"
   ]
  },
  {
   "cell_type": "markdown",
   "metadata": {},
   "source": [
    "A type of supervised learning to predict a value in a continuous dataset with the following hypothesis function"
   ]
  },
  {
   "cell_type": "markdown",
   "metadata": {},
   "source": [
    "\\begin{equation*}\n",
    "y = ax + b\n",
    "\\end{equation*}\n",
    "\n",
    "where y is the output value,\n",
    "x is the input value, a is the coefficient (weight) that we need to find and b is the bias/hypothesis value\n"
   ]
  },
  {
   "cell_type": "markdown",
   "metadata": {},
   "source": [
    "### Calculating the loss for one variable linear regression"
   ]
  },
  {
   "cell_type": "code",
   "execution_count": 12,
   "metadata": {},
   "outputs": [
    {
     "name": "stdout",
     "output_type": "stream",
     "text": [
      "MSE for theta0= -1780  and theta1= 530.9 is  2356033743.12\n",
      "MSE for theta0= -1780  and theta1= -530.9 is  3160207085.52\n",
      "MSE for theta0= -569.6  and theta1= 530.9 is  71346612.23999998\n",
      "MSE for theta0= -569.6  and theta1= -530.9 is  11863726.799999999\n"
     ]
    }
   ],
   "source": [
    "def calc_mse(data, theta0, theta1):\n",
    "    \n",
    "    # Get the SSE by adding up the square of the difference between prediction value\n",
    "    # and the actual value, this will fed into MSE calculation\n",
    "    sse = 0\n",
    "    for i in range(len(data)):\n",
    "        x_val = data[i][0]\n",
    "        y_val = data[i][1]\n",
    "        pred_val = x_val * theta0 + theta1\n",
    "        sq_diff = (y_val - pred_val) ** 2\n",
    "        sse = sse + sq_diff\n",
    "    \n",
    "    # Get the MSE (Mean Square Error) or simply the loss \n",
    "    mse = (1 / 2 * len(data)) * sse \n",
    "    return mse\n",
    "\n",
    "\n"
   ]
  },
  {
   "cell_type": "markdown",
   "metadata": {},
   "source": [
    "## Now let's calculate the loss for different values of theta0 and theta1"
   ]
  },
  {
   "cell_type": "code",
   "execution_count": 13,
   "metadata": {},
   "outputs": [
    {
     "name": "stdout",
     "output_type": "stream",
     "text": [
      "MSE for theta0= -1780  and theta1= 530.9 is  2356033743.12\n",
      "MSE for theta0= -1780  and theta1= -530.9 is  3160207085.52\n",
      "MSE for theta0= -569.6  and theta1= 530.9 is  71346612.23999998\n",
      "MSE for theta0= -569.6  and theta1= -530.9 is  11863726.799999999\n"
     ]
    }
   ],
   "source": [
    "data = [[1,-890],\n",
    "        [2, -1411], \n",
    "        [2, -1560],\n",
    "        [3, -2220],\n",
    "        [3, -2091],\n",
    "        [4, -2878],\n",
    "        [5,-3537],\n",
    "        [6, -3268],\n",
    "        [6, -3920],\n",
    "        [6, -4163],\n",
    "        [8,-5471],\n",
    "        [10,-5157]]\n",
    "\n",
    "theta_arr = [[-1780,530.9],\n",
    "             [-1780,-530.9],\n",
    "             [-569.6,530.9],\n",
    "             [-569.6,-530.9]]\n",
    "\n",
    "for x in range(len(theta_arr)):\n",
    "    theta0 = theta_arr[x][0]\n",
    "    theta1 = theta_arr[x][1]\n",
    "    print(\"MSE for theta0=\",theta0,\" and theta1=\",theta1,\"is \", calc_mse(data, theta0, theta1))\n"
   ]
  },
  {
   "cell_type": "code",
   "execution_count": null,
   "metadata": {},
   "outputs": [],
   "source": []
  }
 ],
 "metadata": {
  "kernelspec": {
   "display_name": "Python 3",
   "language": "python",
   "name": "python3"
  },
  "language_info": {
   "codemirror_mode": {
    "name": "ipython",
    "version": 3
   },
   "file_extension": ".py",
   "mimetype": "text/x-python",
   "name": "python",
   "nbconvert_exporter": "python",
   "pygments_lexer": "ipython3",
   "version": "3.6.4"
  }
 },
 "nbformat": 4,
 "nbformat_minor": 2
}
